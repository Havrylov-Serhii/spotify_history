{
 "cells": [
  {
   "cell_type": "code",
   "execution_count": 2,
   "metadata": {},
   "outputs": [],
   "source": [
    "import pandas as pd\n",
    "import matplotlib.pyplot as plt\n",
    "import seaborn as sns"
   ]
  },
  {
   "cell_type": "code",
   "execution_count": 3,
   "metadata": {},
   "outputs": [],
   "source": [
    "df = pd.read_csv('./data/spotify_history.csv')"
   ]
  },
  {
   "cell_type": "code",
   "execution_count": 4,
   "metadata": {},
   "outputs": [
    {
     "data": {
      "application/vnd.microsoft.datawrangler.viewer.v0+json": {
       "columns": [
        {
         "name": "index",
         "rawType": "int64",
         "type": "integer"
        },
        {
         "name": "spotify_track_uri",
         "rawType": "object",
         "type": "string"
        },
        {
         "name": "ts",
         "rawType": "object",
         "type": "string"
        },
        {
         "name": "platform",
         "rawType": "object",
         "type": "string"
        },
        {
         "name": "ms_played",
         "rawType": "int64",
         "type": "integer"
        },
        {
         "name": "track_name",
         "rawType": "object",
         "type": "string"
        },
        {
         "name": "artist_name",
         "rawType": "object",
         "type": "string"
        },
        {
         "name": "album_name",
         "rawType": "object",
         "type": "string"
        },
        {
         "name": "reason_start",
         "rawType": "object",
         "type": "unknown"
        },
        {
         "name": "reason_end",
         "rawType": "object",
         "type": "unknown"
        },
        {
         "name": "shuffle",
         "rawType": "bool",
         "type": "boolean"
        },
        {
         "name": "skipped",
         "rawType": "bool",
         "type": "boolean"
        }
       ],
       "conversionMethod": "pd.DataFrame",
       "ref": "25ce3c0f-a4df-4e51-828e-ad6a726c01c7",
       "rows": [
        [
         "0",
         "2J3n32GeLmMjwuAzyhcSNe",
         "2013-07-08 02:44:34",
         "web player",
         "3185",
         "Say It, Just Say It",
         "The Mowgli's",
         "Waiting For The Dawn",
         "autoplay",
         "clickrow",
         "False",
         "False"
        ],
        [
         "1",
         "1oHxIPqJyvAYHy0PVrDU98",
         "2013-07-08 02:45:37",
         "web player",
         "61865",
         "Drinking from the Bottle (feat. Tinie Tempah)",
         "Calvin Harris",
         "18 Months",
         "clickrow",
         "clickrow",
         "False",
         "False"
        ],
        [
         "2",
         "487OPlneJNni3NWC8SYqhW",
         "2013-07-08 02:50:24",
         "web player",
         "285386",
         "Born To Die",
         "Lana Del Rey",
         "Born To Die - The Paradise Edition",
         "clickrow",
         "unknown",
         "False",
         "False"
        ],
        [
         "3",
         "5IyblF777jLZj1vGHG2UD3",
         "2013-07-08 02:52:40",
         "web player",
         "134022",
         "Off To The Races",
         "Lana Del Rey",
         "Born To Die - The Paradise Edition",
         "trackdone",
         "clickrow",
         "False",
         "False"
        ],
        [
         "4",
         "0GgAAB0ZMllFhbNc3mAodO",
         "2013-07-08 03:17:52",
         "web player",
         "0",
         "Half Mast",
         "Empire Of The Sun",
         "Walking On A Dream",
         "clickrow",
         "nextbtn",
         "False",
         "False"
        ],
        [
         "5",
         "50VNvhzyaSplJCKWchN7a8",
         "2013-07-08 03:17:52",
         "web player",
         "63485",
         "Impossible",
         "James Arthur",
         "Impossible",
         "clickrow",
         "clickrow",
         "False",
         "False"
        ],
        [
         "6",
         "1I4EczxGBcPR3J3KeyqFJP",
         "2013-07-08 03:17:56",
         "web player",
         "0",
         "We Own The Sky",
         "M83",
         "Saturdays = Youth",
         "nextbtn",
         "nextbtn",
         "False",
         "False"
        ],
        [
         "7",
         "5arVt2Wg0zbiWwAOZef2Nl",
         "2013-07-08 03:17:56",
         "web player",
         "1268",
         "Higher Ground - Remastered 2003",
         "Red Hot Chili Peppers",
         "Mother's Milk",
         "nextbtn",
         "nextbtn",
         "False",
         "False"
        ],
        [
         "8",
         "1ixtaZc0Adil3yD1ItPqSl",
         "2013-07-08 03:17:58",
         "web player",
         "0",
         "Happy Up Here",
         "Röyksopp",
         "Happy Up Here",
         "nextbtn",
         "nextbtn",
         "False",
         "False"
        ],
        [
         "9",
         "2v5mpowLQNFN7NC46l0bJS",
         "2013-07-08 03:19:11",
         "web player",
         "0",
         "Phantom",
         "Justice",
         "Phantom",
         "nextbtn",
         "clickrow",
         "False",
         "False"
        ],
        [
         "10",
         "07hII2Rc29q4F2nTE3P1od",
         "2013-07-08 03:20:20",
         "web player",
         "67587",
         "Sun - Gildas Kitsunй Club Night Short Remix",
         "Two Door Cinema Club",
         "The Kitsuné Special Edition #3 (Kitsuné Maison 14: The Absinthe Edition + Gildas Kitsuné Club Night Mix #3)",
         "clickrow",
         "clickrow",
         "False",
         "False"
        ],
        [
         "11",
         "4kO7mrAPfqIrsKwUOK5BFx",
         "2013-07-08 03:20:36",
         "web player",
         "12846",
         "Midnight City",
         "M83",
         "Hurry Up, We're Dreaming",
         "clickrow",
         "clickrow",
         "False",
         "False"
        ],
        [
         "12",
         "4oTIuUmpE2xdXrpon9lgfJ",
         "2013-07-08 03:21:13",
         "web player",
         "36132",
         "Heaven",
         "Emeli Sandé",
         "Our Version Of Events",
         "clickrow",
         "clickrow",
         "False",
         "False"
        ],
        [
         "13",
         "49h0RYK3yzWkfbVyNJjJ01",
         "2013-07-08 03:22:51",
         "web player",
         "95817",
         "Do I Wanna Know?",
         "Arctic Monkeys",
         "Do I Wanna Know?",
         "clickrow",
         "clickrow",
         "False",
         "False"
        ],
        [
         "14",
         "4iG2gAwKXsOcijVaVXzRPW",
         "2013-07-08 03:22:54",
         "web player",
         "1763",
         "Time to Pretend",
         "MGMT",
         "Oracular Spectacular",
         "clickrow",
         "nextbtn",
         "False",
         "False"
        ],
        [
         "15",
         "19K3lUMJmOdeuOBTrbLm19",
         "2013-07-08 03:33:38",
         "web player",
         "45712",
         "Weekend Wars",
         "MGMT",
         "Oracular Spectacular",
         "nextbtn",
         "nextbtn",
         "False",
         "False"
        ],
        [
         "16",
         "5nv854ey1k43KaZ0kHmE4Z",
         "2013-07-08 03:37:30",
         "web player",
         "228021",
         "The Youth",
         "MGMT",
         "Oracular Spectacular",
         "nextbtn",
         "unknown",
         "False",
         "False"
        ],
        [
         "17",
         "3FtYbEfBqAlGO46NUDQSAt",
         "2013-07-08 03:41:21",
         "web player",
         "229589",
         "Electric Feel",
         "MGMT",
         "Oracular Spectacular",
         "trackdone",
         "trackdone",
         "False",
         "False"
        ],
        [
         "18",
         "1jJci4qxiYcOHhQR247rEU",
         "2013-07-08 03:41:30",
         "web player",
         "7332",
         "Kids",
         "MGMT",
         "Oracular Spectacular",
         "trackdone",
         "clickrow",
         "False",
         "False"
        ],
        [
         "19",
         "4Sfa7hdVkqlM8UW5LsSY3F",
         "2013-07-08 03:45:10",
         "web player",
         "217935",
         "Take a Walk",
         "Passion Pit",
         "Gossamer",
         "clickrow",
         "clickrow",
         "False",
         "False"
        ],
        [
         "20",
         "1VMdwVq0yaTc4DeqSCi7DO",
         "2013-07-08 03:46:29",
         "web player",
         "76303",
         "White",
         "Frank Ocean",
         "channel ORANGE",
         "clickrow",
         "unknown",
         "False",
         "False"
        ],
        [
         "21",
         "0msrDPXxZpts4FRnoX0bFr",
         "2013-07-08 03:51:36",
         "web player",
         "10579",
         "Monks",
         "Frank Ocean",
         "channel ORANGE",
         "trackdone",
         "clickrow",
         "False",
         "False"
        ],
        [
         "22",
         "2GAljG6WxV0XU7N88TWhb1",
         "2013-07-08 03:55:57",
         "web player",
         "0",
         "Paper Doll",
         "John Mayer",
         "Paper Doll",
         "clickrow",
         "unknown",
         "False",
         "False"
        ],
        [
         "23",
         "1oALUPFv6xZzEidRC42BZP",
         "2013-07-08 03:57:20",
         "web player",
         "81893",
         "7th Street",
         "John Mayer",
         "7th Street",
         "trackdone",
         "trackdone",
         "False",
         "False"
        ],
        [
         "24",
         "3qvGzm7QyMW3TvWpl3sZaq",
         "2013-07-08 03:59:15",
         "web player",
         "0",
         "Baby, You've Got the Nonsense",
         "John Mayer",
         "7th Street",
         "trackdone",
         "trackdone",
         "False",
         "False"
        ],
        [
         "25",
         "3kQ7gRMR7bPf9M3enRGyyY",
         "2013-07-08 04:03:17",
         "web player",
         "238837",
         "Gravity - Radio Edit",
         "John Mayer",
         "Gravity",
         "trackdone",
         "trackdone",
         "False",
         "False"
        ],
        [
         "26",
         "6wZI4mdT8JwXgkGURnBQiq",
         "2013-07-08 04:07:10",
         "web player",
         "230216",
         "Say",
         "John Mayer",
         "Say",
         "trackdone",
         "trackdone",
         "False",
         "False"
        ],
        [
         "27",
         "0BIajZZW6jUlVqoNwmzZ2J",
         "2013-07-08 04:10:34",
         "web player",
         "0",
         "Waiting On the World to Change",
         "John Mayer",
         "Waiting On The World To Change",
         "trackdone",
         "trackdone",
         "False",
         "False"
        ],
        [
         "28",
         "1ZF0NnzQhfR9hEdsUsuZfz",
         "2013-07-08 04:13:23",
         "web player",
         "165694",
         "I'm Gonna Find Another You - Acoustic",
         "John Mayer",
         "Waiting On The World To Change",
         "trackdone",
         "trackdone",
         "False",
         "False"
        ],
        [
         "29",
         "6J3PYJ5mpscGmSFF6ANYDQ",
         "2013-07-08 04:17:23",
         "web player",
         "237896",
         "Daughters",
         "John Mayer",
         "Daughters",
         "trackdone",
         "trackdone",
         "False",
         "False"
        ],
        [
         "30",
         "4rW2rUs32yZreYjvKgS1KK",
         "2013-07-08 04:18:44",
         "web player",
         "78943",
         "Daughters - Electric Guitar Mix",
         "John Mayer",
         "Daughters",
         "trackdone",
         "clickrow",
         "False",
         "False"
        ],
        [
         "31",
         "4LloVtxNZpeh7q7xdi1DQc",
         "2013-07-08 04:18:48",
         "web player",
         "2301",
         "Free Fallin' - Live at the Nokia Theatre, Los Angeles, CA - December 2007",
         "John Mayer",
         "Where the Light Is: John Mayer Live In Los Angeles",
         "clickrow",
         "clickrow",
         "False",
         "False"
        ],
        [
         "32",
         "2GAljG6WxV0XU7N88TWhb1",
         "2013-07-08 04:23:08",
         "web player",
         "257591",
         "Paper Doll",
         "John Mayer",
         "Paper Doll",
         "clickrow",
         "unknown",
         "False",
         "False"
        ],
        [
         "33",
         "4gs07VlJST4bdxGbBsXVue",
         "2013-07-08 04:27:39",
         "web player",
         "269661",
         "Heartbreak Warfare",
         "John Mayer",
         "Battle Studies",
         "trackdone",
         "trackdone",
         "False",
         "False"
        ],
        [
         "34",
         "7hR5toSPEgwFZ78jfHdANM",
         "2013-07-08 04:31:53",
         "web player",
         "250368",
         "Half of My Heart",
         "John Mayer",
         "Battle Studies",
         "trackdone",
         "trackdone",
         "False",
         "False"
        ],
        [
         "35",
         "3RgR3cFZ6xh7MlB9DURK6e",
         "2013-07-08 04:35:44",
         "web player",
         "228126",
         "Shadow Days",
         "John Mayer",
         "Born and Raised",
         "trackdone",
         "trackdone",
         "False",
         "False"
        ],
        [
         "36",
         "0CETmgFGt8Ne8vLnaLcduU",
         "2013-07-08 04:39:57",
         "web player",
         "250069",
         "Queen of California",
         "John Mayer",
         "Born and Raised",
         "trackdone",
         "trackdone",
         "False",
         "False"
        ],
        [
         "37",
         "7vFv0yFGMJW3qVXbAd9BK9",
         "2013-07-08 04:44:08",
         "web player",
         "249651",
         "Your Body Is a Wonderland",
         "John Mayer",
         "Room For Squares",
         "trackdone",
         "trackdone",
         "False",
         "False"
        ],
        [
         "38",
         "0EUSbTvyZfo9QOcxunL9Ro",
         "2013-07-08 04:49:59",
         "web player",
         "345625",
         "In Your Atmosphere - Live at the Nokia Theatre, Los Angeles, CA - December 2007",
         "John Mayer",
         "Where the Light Is: John Mayer Live In Los Angeles",
         "trackdone",
         "trackdone",
         "False",
         "False"
        ],
        [
         "39",
         "1aiDlPLPljMFUylWjMZras",
         "2013-07-08 04:50:09",
         "web player",
         "8308",
         "Something Like Olivia",
         "John Mayer",
         "Born and Raised",
         "trackdone",
         "nextbtn",
         "False",
         "False"
        ],
        [
         "40",
         "4LloVtxNZpeh7q7xdi1DQc",
         "2013-07-08 04:50:09",
         "web player",
         "0",
         "Free Fallin' - Live at the Nokia Theatre, Los Angeles, CA - December 2007",
         "John Mayer",
         "Where the Light Is: John Mayer Live In Los Angeles",
         "nextbtn",
         "nextbtn",
         "False",
         "False"
        ],
        [
         "41",
         "0HLWvLKQWpFdPhgk6ym58n",
         "2013-07-08 04:50:13",
         "web player",
         "1375",
         "Who Says",
         "John Mayer",
         "Battle Studies",
         "nextbtn",
         "clickrow",
         "False",
         "False"
        ],
        [
         "42",
         "5pfVOeJXjiW36GgH7WnjlE",
         "2013-07-08 04:51:11",
         "web player",
         "56644",
         "For My Lover",
         "Tracy Chapman",
         "Fast Folk Musical Magazine (Vol. 3, No. 4) Boston One",
         "clickrow",
         "clickrow",
         "False",
         "False"
        ],
        [
         "43",
         "2nMeu6UenVvwUktBCpLMK9",
         "2013-07-08 04:55:09",
         "web player",
         "236042",
         "Young And Beautiful",
         "Lana Del Rey",
         "Young And Beautiful",
         "clickrow",
         "unknown",
         "False",
         "False"
        ],
        [
         "44",
         "2nMeu6UenVvwUktBCpLMK9",
         "2013-07-08 04:59:07",
         "web player",
         "236042",
         "Young And Beautiful",
         "Lana Del Rey",
         "Young And Beautiful",
         "trackdone",
         "trackdone",
         "False",
         "False"
        ],
        [
         "45",
         "2nMeu6UenVvwUktBCpLMK9",
         "2013-07-08 05:02:22",
         "web player",
         "192559",
         "Young And Beautiful",
         "Lana Del Rey",
         "Young And Beautiful",
         "trackdone",
         "clickrow",
         "False",
         "False"
        ],
        [
         "46",
         "6nek1Nin9q48AVZcWs9e9D",
         "2013-07-08 05:02:23",
         "web player",
         "320",
         "Paradise",
         "Coldplay",
         "Mylo Xyloto",
         "clickrow",
         "nextbtn",
         "False",
         "False"
        ],
        [
         "47",
         "4HXOBjwv2RnLpGG4xWOO6N",
         "2013-07-08 05:02:25",
         "web player",
         "0",
         "Princess of China",
         "Coldplay",
         "Mylo Xyloto",
         "nextbtn",
         "nextbtn",
         "False",
         "False"
        ],
        [
         "48",
         "7LVHVU3tWfcxj5aiPFEW4Q",
         "2013-07-08 05:02:27",
         "web player",
         "0",
         "Fix You",
         "Coldplay",
         "X&Y",
         "nextbtn",
         "nextbtn",
         "False",
         "False"
        ],
        [
         "49",
         "3AJwUDP919kvQ9QcozQPxg",
         "2013-07-08 05:02:28",
         "web player",
         "0",
         "Yellow",
         "Coldplay",
         "Parachutes",
         "nextbtn",
         "nextbtn",
         "False",
         "False"
        ]
       ],
       "shape": {
        "columns": 11,
        "rows": 149860
       }
      },
      "text/html": [
       "<div>\n",
       "<style scoped>\n",
       "    .dataframe tbody tr th:only-of-type {\n",
       "        vertical-align: middle;\n",
       "    }\n",
       "\n",
       "    .dataframe tbody tr th {\n",
       "        vertical-align: top;\n",
       "    }\n",
       "\n",
       "    .dataframe thead th {\n",
       "        text-align: right;\n",
       "    }\n",
       "</style>\n",
       "<table border=\"1\" class=\"dataframe\">\n",
       "  <thead>\n",
       "    <tr style=\"text-align: right;\">\n",
       "      <th></th>\n",
       "      <th>spotify_track_uri</th>\n",
       "      <th>ts</th>\n",
       "      <th>platform</th>\n",
       "      <th>ms_played</th>\n",
       "      <th>track_name</th>\n",
       "      <th>artist_name</th>\n",
       "      <th>album_name</th>\n",
       "      <th>reason_start</th>\n",
       "      <th>reason_end</th>\n",
       "      <th>shuffle</th>\n",
       "      <th>skipped</th>\n",
       "    </tr>\n",
       "  </thead>\n",
       "  <tbody>\n",
       "    <tr>\n",
       "      <th>0</th>\n",
       "      <td>2J3n32GeLmMjwuAzyhcSNe</td>\n",
       "      <td>2013-07-08 02:44:34</td>\n",
       "      <td>web player</td>\n",
       "      <td>3185</td>\n",
       "      <td>Say It, Just Say It</td>\n",
       "      <td>The Mowgli's</td>\n",
       "      <td>Waiting For The Dawn</td>\n",
       "      <td>autoplay</td>\n",
       "      <td>clickrow</td>\n",
       "      <td>False</td>\n",
       "      <td>False</td>\n",
       "    </tr>\n",
       "    <tr>\n",
       "      <th>1</th>\n",
       "      <td>1oHxIPqJyvAYHy0PVrDU98</td>\n",
       "      <td>2013-07-08 02:45:37</td>\n",
       "      <td>web player</td>\n",
       "      <td>61865</td>\n",
       "      <td>Drinking from the Bottle (feat. Tinie Tempah)</td>\n",
       "      <td>Calvin Harris</td>\n",
       "      <td>18 Months</td>\n",
       "      <td>clickrow</td>\n",
       "      <td>clickrow</td>\n",
       "      <td>False</td>\n",
       "      <td>False</td>\n",
       "    </tr>\n",
       "    <tr>\n",
       "      <th>2</th>\n",
       "      <td>487OPlneJNni3NWC8SYqhW</td>\n",
       "      <td>2013-07-08 02:50:24</td>\n",
       "      <td>web player</td>\n",
       "      <td>285386</td>\n",
       "      <td>Born To Die</td>\n",
       "      <td>Lana Del Rey</td>\n",
       "      <td>Born To Die - The Paradise Edition</td>\n",
       "      <td>clickrow</td>\n",
       "      <td>unknown</td>\n",
       "      <td>False</td>\n",
       "      <td>False</td>\n",
       "    </tr>\n",
       "    <tr>\n",
       "      <th>3</th>\n",
       "      <td>5IyblF777jLZj1vGHG2UD3</td>\n",
       "      <td>2013-07-08 02:52:40</td>\n",
       "      <td>web player</td>\n",
       "      <td>134022</td>\n",
       "      <td>Off To The Races</td>\n",
       "      <td>Lana Del Rey</td>\n",
       "      <td>Born To Die - The Paradise Edition</td>\n",
       "      <td>trackdone</td>\n",
       "      <td>clickrow</td>\n",
       "      <td>False</td>\n",
       "      <td>False</td>\n",
       "    </tr>\n",
       "    <tr>\n",
       "      <th>4</th>\n",
       "      <td>0GgAAB0ZMllFhbNc3mAodO</td>\n",
       "      <td>2013-07-08 03:17:52</td>\n",
       "      <td>web player</td>\n",
       "      <td>0</td>\n",
       "      <td>Half Mast</td>\n",
       "      <td>Empire Of The Sun</td>\n",
       "      <td>Walking On A Dream</td>\n",
       "      <td>clickrow</td>\n",
       "      <td>nextbtn</td>\n",
       "      <td>False</td>\n",
       "      <td>False</td>\n",
       "    </tr>\n",
       "    <tr>\n",
       "      <th>...</th>\n",
       "      <td>...</td>\n",
       "      <td>...</td>\n",
       "      <td>...</td>\n",
       "      <td>...</td>\n",
       "      <td>...</td>\n",
       "      <td>...</td>\n",
       "      <td>...</td>\n",
       "      <td>...</td>\n",
       "      <td>...</td>\n",
       "      <td>...</td>\n",
       "      <td>...</td>\n",
       "    </tr>\n",
       "    <tr>\n",
       "      <th>149855</th>\n",
       "      <td>4Fz1WWr5o0OrlIcZxcyZtK</td>\n",
       "      <td>2024-12-15 23:06:19</td>\n",
       "      <td>android</td>\n",
       "      <td>1247</td>\n",
       "      <td>On The Way Home</td>\n",
       "      <td>John Mayer</td>\n",
       "      <td>Paradise Valley</td>\n",
       "      <td>fwdbtn</td>\n",
       "      <td>fwdbtn</td>\n",
       "      <td>True</td>\n",
       "      <td>True</td>\n",
       "    </tr>\n",
       "    <tr>\n",
       "      <th>149856</th>\n",
       "      <td>0qHMhBZqYb99yhX9BHcIkV</td>\n",
       "      <td>2024-12-15 23:06:21</td>\n",
       "      <td>android</td>\n",
       "      <td>1515</td>\n",
       "      <td>Magical Mystery Tour - Remastered 2009</td>\n",
       "      <td>The Beatles</td>\n",
       "      <td>Magical Mystery Tour</td>\n",
       "      <td>fwdbtn</td>\n",
       "      <td>fwdbtn</td>\n",
       "      <td>True</td>\n",
       "      <td>True</td>\n",
       "    </tr>\n",
       "    <tr>\n",
       "      <th>149857</th>\n",
       "      <td>0HHdujGjOZChTrl8lJWEIq</td>\n",
       "      <td>2024-12-15 23:06:22</td>\n",
       "      <td>android</td>\n",
       "      <td>1283</td>\n",
       "      <td>Stop This Train - Live at the Nokia Theatre, L...</td>\n",
       "      <td>John Mayer</td>\n",
       "      <td>Where the Light Is: John Mayer Live In Los Ang...</td>\n",
       "      <td>fwdbtn</td>\n",
       "      <td>fwdbtn</td>\n",
       "      <td>True</td>\n",
       "      <td>True</td>\n",
       "    </tr>\n",
       "    <tr>\n",
       "      <th>149858</th>\n",
       "      <td>7peh6LUcdNPcMdrSH4JPsM</td>\n",
       "      <td>2024-12-15 23:06:23</td>\n",
       "      <td>android</td>\n",
       "      <td>1306</td>\n",
       "      <td>I Don't Trust Myself (With Loving You)</td>\n",
       "      <td>John Mayer</td>\n",
       "      <td>Continuum</td>\n",
       "      <td>fwdbtn</td>\n",
       "      <td>fwdbtn</td>\n",
       "      <td>True</td>\n",
       "      <td>True</td>\n",
       "    </tr>\n",
       "    <tr>\n",
       "      <th>149859</th>\n",
       "      <td>6iGU74CwXuT4XVepjc9Emf</td>\n",
       "      <td>2024-12-15 23:06:25</td>\n",
       "      <td>android</td>\n",
       "      <td>1893</td>\n",
       "      <td>God Only Knows - Mono</td>\n",
       "      <td>The Beach Boys</td>\n",
       "      <td>Pet Sounds</td>\n",
       "      <td>fwdbtn</td>\n",
       "      <td>fwdbtn</td>\n",
       "      <td>True</td>\n",
       "      <td>True</td>\n",
       "    </tr>\n",
       "  </tbody>\n",
       "</table>\n",
       "<p>149860 rows × 11 columns</p>\n",
       "</div>"
      ],
      "text/plain": [
       "             spotify_track_uri                   ts    platform  ms_played  \\\n",
       "0       2J3n32GeLmMjwuAzyhcSNe  2013-07-08 02:44:34  web player       3185   \n",
       "1       1oHxIPqJyvAYHy0PVrDU98  2013-07-08 02:45:37  web player      61865   \n",
       "2       487OPlneJNni3NWC8SYqhW  2013-07-08 02:50:24  web player     285386   \n",
       "3       5IyblF777jLZj1vGHG2UD3  2013-07-08 02:52:40  web player     134022   \n",
       "4       0GgAAB0ZMllFhbNc3mAodO  2013-07-08 03:17:52  web player          0   \n",
       "...                        ...                  ...         ...        ...   \n",
       "149855  4Fz1WWr5o0OrlIcZxcyZtK  2024-12-15 23:06:19     android       1247   \n",
       "149856  0qHMhBZqYb99yhX9BHcIkV  2024-12-15 23:06:21     android       1515   \n",
       "149857  0HHdujGjOZChTrl8lJWEIq  2024-12-15 23:06:22     android       1283   \n",
       "149858  7peh6LUcdNPcMdrSH4JPsM  2024-12-15 23:06:23     android       1306   \n",
       "149859  6iGU74CwXuT4XVepjc9Emf  2024-12-15 23:06:25     android       1893   \n",
       "\n",
       "                                               track_name        artist_name  \\\n",
       "0                                     Say It, Just Say It       The Mowgli's   \n",
       "1           Drinking from the Bottle (feat. Tinie Tempah)      Calvin Harris   \n",
       "2                                             Born To Die       Lana Del Rey   \n",
       "3                                        Off To The Races       Lana Del Rey   \n",
       "4                                               Half Mast  Empire Of The Sun   \n",
       "...                                                   ...                ...   \n",
       "149855                                    On The Way Home         John Mayer   \n",
       "149856             Magical Mystery Tour - Remastered 2009        The Beatles   \n",
       "149857  Stop This Train - Live at the Nokia Theatre, L...         John Mayer   \n",
       "149858             I Don't Trust Myself (With Loving You)         John Mayer   \n",
       "149859                              God Only Knows - Mono     The Beach Boys   \n",
       "\n",
       "                                               album_name reason_start  \\\n",
       "0                                    Waiting For The Dawn     autoplay   \n",
       "1                                               18 Months     clickrow   \n",
       "2                      Born To Die - The Paradise Edition     clickrow   \n",
       "3                      Born To Die - The Paradise Edition    trackdone   \n",
       "4                                      Walking On A Dream     clickrow   \n",
       "...                                                   ...          ...   \n",
       "149855                                    Paradise Valley       fwdbtn   \n",
       "149856                               Magical Mystery Tour       fwdbtn   \n",
       "149857  Where the Light Is: John Mayer Live In Los Ang...       fwdbtn   \n",
       "149858                                          Continuum       fwdbtn   \n",
       "149859                                         Pet Sounds       fwdbtn   \n",
       "\n",
       "       reason_end  shuffle  skipped  \n",
       "0        clickrow    False    False  \n",
       "1        clickrow    False    False  \n",
       "2         unknown    False    False  \n",
       "3        clickrow    False    False  \n",
       "4         nextbtn    False    False  \n",
       "...           ...      ...      ...  \n",
       "149855     fwdbtn     True     True  \n",
       "149856     fwdbtn     True     True  \n",
       "149857     fwdbtn     True     True  \n",
       "149858     fwdbtn     True     True  \n",
       "149859     fwdbtn     True     True  \n",
       "\n",
       "[149860 rows x 11 columns]"
      ]
     },
     "execution_count": 4,
     "metadata": {},
     "output_type": "execute_result"
    }
   ],
   "source": [
    "df"
   ]
  },
  {
   "cell_type": "code",
   "execution_count": 5,
   "metadata": {},
   "outputs": [
    {
     "name": "stdout",
     "output_type": "stream",
     "text": [
      "<class 'pandas.core.frame.DataFrame'>\n",
      "RangeIndex: 149860 entries, 0 to 149859\n",
      "Data columns (total 11 columns):\n",
      " #   Column             Non-Null Count   Dtype \n",
      "---  ------             --------------   ----- \n",
      " 0   spotify_track_uri  149860 non-null  object\n",
      " 1   ts                 149860 non-null  object\n",
      " 2   platform           149860 non-null  object\n",
      " 3   ms_played          149860 non-null  int64 \n",
      " 4   track_name         149860 non-null  object\n",
      " 5   artist_name        149860 non-null  object\n",
      " 6   album_name         149860 non-null  object\n",
      " 7   reason_start       149717 non-null  object\n",
      " 8   reason_end         149743 non-null  object\n",
      " 9   shuffle            149860 non-null  bool  \n",
      " 10  skipped            149860 non-null  bool  \n",
      "dtypes: bool(2), int64(1), object(8)\n",
      "memory usage: 10.6+ MB\n"
     ]
    }
   ],
   "source": [
    "df.info()"
   ]
  },
  {
   "cell_type": "code",
   "execution_count": 6,
   "metadata": {},
   "outputs": [],
   "source": [
    "df['ts']= pd.to_datetime(df['ts'])"
   ]
  },
  {
   "cell_type": "code",
   "execution_count": 7,
   "metadata": {},
   "outputs": [],
   "source": [
    "df['hour']=df['ts'].dt.hour\n",
    "df['date']=df['ts'].dt.date\n",
    "df['month']=df['ts'].dt.to_period('M')\n",
    "df['day_of_week ']=df['ts'].dt.day_name()"
   ]
  },
  {
   "cell_type": "code",
   "execution_count": 8,
   "metadata": {},
   "outputs": [],
   "source": [
    "df = df.dropna()"
   ]
  },
  {
   "cell_type": "code",
   "execution_count": 9,
   "metadata": {},
   "outputs": [
    {
     "data": {
      "application/vnd.microsoft.datawrangler.viewer.v0+json": {
       "columns": [
        {
         "name": "index",
         "rawType": "int64",
         "type": "integer"
        },
        {
         "name": "spotify_track_uri",
         "rawType": "object",
         "type": "string"
        },
        {
         "name": "ts",
         "rawType": "datetime64[ns]",
         "type": "datetime"
        },
        {
         "name": "platform",
         "rawType": "object",
         "type": "string"
        },
        {
         "name": "ms_played",
         "rawType": "int64",
         "type": "integer"
        },
        {
         "name": "track_name",
         "rawType": "object",
         "type": "string"
        },
        {
         "name": "artist_name",
         "rawType": "object",
         "type": "string"
        },
        {
         "name": "album_name",
         "rawType": "object",
         "type": "string"
        },
        {
         "name": "reason_start",
         "rawType": "object",
         "type": "string"
        },
        {
         "name": "reason_end",
         "rawType": "object",
         "type": "string"
        },
        {
         "name": "shuffle",
         "rawType": "bool",
         "type": "boolean"
        },
        {
         "name": "skipped",
         "rawType": "bool",
         "type": "boolean"
        },
        {
         "name": "hour",
         "rawType": "int32",
         "type": "integer"
        },
        {
         "name": "date",
         "rawType": "object",
         "type": "unknown"
        },
        {
         "name": "month",
         "rawType": "period[M]",
         "type": "unknown"
        },
        {
         "name": "day_of_week ",
         "rawType": "object",
         "type": "string"
        }
       ],
       "conversionMethod": "pd.DataFrame",
       "ref": "3b27d0b0-76d4-4fb3-988d-89b804b9b48a",
       "rows": [
        [
         "0",
         "2J3n32GeLmMjwuAzyhcSNe",
         "2013-07-08 02:44:34",
         "web player",
         "3185",
         "Say It, Just Say It",
         "The Mowgli's",
         "Waiting For The Dawn",
         "autoplay",
         "clickrow",
         "False",
         "False",
         "2",
         "2013-07-08",
         "2013-07",
         "Monday"
        ],
        [
         "1",
         "1oHxIPqJyvAYHy0PVrDU98",
         "2013-07-08 02:45:37",
         "web player",
         "61865",
         "Drinking from the Bottle (feat. Tinie Tempah)",
         "Calvin Harris",
         "18 Months",
         "clickrow",
         "clickrow",
         "False",
         "False",
         "2",
         "2013-07-08",
         "2013-07",
         "Monday"
        ],
        [
         "2",
         "487OPlneJNni3NWC8SYqhW",
         "2013-07-08 02:50:24",
         "web player",
         "285386",
         "Born To Die",
         "Lana Del Rey",
         "Born To Die - The Paradise Edition",
         "clickrow",
         "unknown",
         "False",
         "False",
         "2",
         "2013-07-08",
         "2013-07",
         "Monday"
        ],
        [
         "3",
         "5IyblF777jLZj1vGHG2UD3",
         "2013-07-08 02:52:40",
         "web player",
         "134022",
         "Off To The Races",
         "Lana Del Rey",
         "Born To Die - The Paradise Edition",
         "trackdone",
         "clickrow",
         "False",
         "False",
         "2",
         "2013-07-08",
         "2013-07",
         "Monday"
        ],
        [
         "4",
         "0GgAAB0ZMllFhbNc3mAodO",
         "2013-07-08 03:17:52",
         "web player",
         "0",
         "Half Mast",
         "Empire Of The Sun",
         "Walking On A Dream",
         "clickrow",
         "nextbtn",
         "False",
         "False",
         "3",
         "2013-07-08",
         "2013-07",
         "Monday"
        ]
       ],
       "shape": {
        "columns": 15,
        "rows": 5
       }
      },
      "text/html": [
       "<div>\n",
       "<style scoped>\n",
       "    .dataframe tbody tr th:only-of-type {\n",
       "        vertical-align: middle;\n",
       "    }\n",
       "\n",
       "    .dataframe tbody tr th {\n",
       "        vertical-align: top;\n",
       "    }\n",
       "\n",
       "    .dataframe thead th {\n",
       "        text-align: right;\n",
       "    }\n",
       "</style>\n",
       "<table border=\"1\" class=\"dataframe\">\n",
       "  <thead>\n",
       "    <tr style=\"text-align: right;\">\n",
       "      <th></th>\n",
       "      <th>spotify_track_uri</th>\n",
       "      <th>ts</th>\n",
       "      <th>platform</th>\n",
       "      <th>ms_played</th>\n",
       "      <th>track_name</th>\n",
       "      <th>artist_name</th>\n",
       "      <th>album_name</th>\n",
       "      <th>reason_start</th>\n",
       "      <th>reason_end</th>\n",
       "      <th>shuffle</th>\n",
       "      <th>skipped</th>\n",
       "      <th>hour</th>\n",
       "      <th>date</th>\n",
       "      <th>month</th>\n",
       "      <th>day_of_week</th>\n",
       "    </tr>\n",
       "  </thead>\n",
       "  <tbody>\n",
       "    <tr>\n",
       "      <th>0</th>\n",
       "      <td>2J3n32GeLmMjwuAzyhcSNe</td>\n",
       "      <td>2013-07-08 02:44:34</td>\n",
       "      <td>web player</td>\n",
       "      <td>3185</td>\n",
       "      <td>Say It, Just Say It</td>\n",
       "      <td>The Mowgli's</td>\n",
       "      <td>Waiting For The Dawn</td>\n",
       "      <td>autoplay</td>\n",
       "      <td>clickrow</td>\n",
       "      <td>False</td>\n",
       "      <td>False</td>\n",
       "      <td>2</td>\n",
       "      <td>2013-07-08</td>\n",
       "      <td>2013-07</td>\n",
       "      <td>Monday</td>\n",
       "    </tr>\n",
       "    <tr>\n",
       "      <th>1</th>\n",
       "      <td>1oHxIPqJyvAYHy0PVrDU98</td>\n",
       "      <td>2013-07-08 02:45:37</td>\n",
       "      <td>web player</td>\n",
       "      <td>61865</td>\n",
       "      <td>Drinking from the Bottle (feat. Tinie Tempah)</td>\n",
       "      <td>Calvin Harris</td>\n",
       "      <td>18 Months</td>\n",
       "      <td>clickrow</td>\n",
       "      <td>clickrow</td>\n",
       "      <td>False</td>\n",
       "      <td>False</td>\n",
       "      <td>2</td>\n",
       "      <td>2013-07-08</td>\n",
       "      <td>2013-07</td>\n",
       "      <td>Monday</td>\n",
       "    </tr>\n",
       "    <tr>\n",
       "      <th>2</th>\n",
       "      <td>487OPlneJNni3NWC8SYqhW</td>\n",
       "      <td>2013-07-08 02:50:24</td>\n",
       "      <td>web player</td>\n",
       "      <td>285386</td>\n",
       "      <td>Born To Die</td>\n",
       "      <td>Lana Del Rey</td>\n",
       "      <td>Born To Die - The Paradise Edition</td>\n",
       "      <td>clickrow</td>\n",
       "      <td>unknown</td>\n",
       "      <td>False</td>\n",
       "      <td>False</td>\n",
       "      <td>2</td>\n",
       "      <td>2013-07-08</td>\n",
       "      <td>2013-07</td>\n",
       "      <td>Monday</td>\n",
       "    </tr>\n",
       "    <tr>\n",
       "      <th>3</th>\n",
       "      <td>5IyblF777jLZj1vGHG2UD3</td>\n",
       "      <td>2013-07-08 02:52:40</td>\n",
       "      <td>web player</td>\n",
       "      <td>134022</td>\n",
       "      <td>Off To The Races</td>\n",
       "      <td>Lana Del Rey</td>\n",
       "      <td>Born To Die - The Paradise Edition</td>\n",
       "      <td>trackdone</td>\n",
       "      <td>clickrow</td>\n",
       "      <td>False</td>\n",
       "      <td>False</td>\n",
       "      <td>2</td>\n",
       "      <td>2013-07-08</td>\n",
       "      <td>2013-07</td>\n",
       "      <td>Monday</td>\n",
       "    </tr>\n",
       "    <tr>\n",
       "      <th>4</th>\n",
       "      <td>0GgAAB0ZMllFhbNc3mAodO</td>\n",
       "      <td>2013-07-08 03:17:52</td>\n",
       "      <td>web player</td>\n",
       "      <td>0</td>\n",
       "      <td>Half Mast</td>\n",
       "      <td>Empire Of The Sun</td>\n",
       "      <td>Walking On A Dream</td>\n",
       "      <td>clickrow</td>\n",
       "      <td>nextbtn</td>\n",
       "      <td>False</td>\n",
       "      <td>False</td>\n",
       "      <td>3</td>\n",
       "      <td>2013-07-08</td>\n",
       "      <td>2013-07</td>\n",
       "      <td>Monday</td>\n",
       "    </tr>\n",
       "  </tbody>\n",
       "</table>\n",
       "</div>"
      ],
      "text/plain": [
       "        spotify_track_uri                  ts    platform  ms_played  \\\n",
       "0  2J3n32GeLmMjwuAzyhcSNe 2013-07-08 02:44:34  web player       3185   \n",
       "1  1oHxIPqJyvAYHy0PVrDU98 2013-07-08 02:45:37  web player      61865   \n",
       "2  487OPlneJNni3NWC8SYqhW 2013-07-08 02:50:24  web player     285386   \n",
       "3  5IyblF777jLZj1vGHG2UD3 2013-07-08 02:52:40  web player     134022   \n",
       "4  0GgAAB0ZMllFhbNc3mAodO 2013-07-08 03:17:52  web player          0   \n",
       "\n",
       "                                      track_name        artist_name  \\\n",
       "0                            Say It, Just Say It       The Mowgli's   \n",
       "1  Drinking from the Bottle (feat. Tinie Tempah)      Calvin Harris   \n",
       "2                                    Born To Die       Lana Del Rey   \n",
       "3                               Off To The Races       Lana Del Rey   \n",
       "4                                      Half Mast  Empire Of The Sun   \n",
       "\n",
       "                           album_name reason_start reason_end  shuffle  \\\n",
       "0                Waiting For The Dawn     autoplay   clickrow    False   \n",
       "1                           18 Months     clickrow   clickrow    False   \n",
       "2  Born To Die - The Paradise Edition     clickrow    unknown    False   \n",
       "3  Born To Die - The Paradise Edition    trackdone   clickrow    False   \n",
       "4                  Walking On A Dream     clickrow    nextbtn    False   \n",
       "\n",
       "   skipped  hour        date    month day_of_week   \n",
       "0    False     2  2013-07-08  2013-07       Monday  \n",
       "1    False     2  2013-07-08  2013-07       Monday  \n",
       "2    False     2  2013-07-08  2013-07       Monday  \n",
       "3    False     2  2013-07-08  2013-07       Monday  \n",
       "4    False     3  2013-07-08  2013-07       Monday  "
      ]
     },
     "execution_count": 9,
     "metadata": {},
     "output_type": "execute_result"
    }
   ],
   "source": [
    "df.head(5)"
   ]
  },
  {
   "cell_type": "code",
   "execution_count": 10,
   "metadata": {},
   "outputs": [
    {
     "data": {
      "text/plain": [
       "track_name\n",
       "Ode To The Mets                      207\n",
       "In the Blood                         181\n",
       "Dying Breed                          166\n",
       "Caution                              164\n",
       "19 Dias y 500 Noches - En Directo    148\n",
       "For What It's Worth                  146\n",
       "All These Things That I've Done      142\n",
       "Concerning Hobbits                   142\n",
       "Come Together - Remastered 2009      137\n",
       "The Boxer                            135\n",
       "Name: count, dtype: int64"
      ]
     },
     "execution_count": 10,
     "metadata": {},
     "output_type": "execute_result"
    }
   ],
   "source": [
    "df['track_name'].value_counts().head(10)"
   ]
  },
  {
   "cell_type": "markdown",
   "metadata": {},
   "source": [
    "### Top tracks"
   ]
  },
  {
   "cell_type": "code",
   "execution_count": 11,
   "metadata": {},
   "outputs": [
    {
     "name": "stderr",
     "output_type": "stream",
     "text": [
      "C:\\Users\\shunp\\AppData\\Local\\Temp\\ipykernel_13928\\1902914948.py:4: FutureWarning: \n",
      "\n",
      "Passing `palette` without assigning `hue` is deprecated and will be removed in v0.14.0. Assign the `y` variable to `hue` and set `legend=False` for the same effect.\n",
      "\n",
      "  sns.barplot(x=top_tracks.values,y=top_tracks.index, palette='tab10')\n"
     ]
    },
    {
     "data": {
      "image/png": "[encoded data removed]",
      "text/plain": [
       "<Figure size 800x500 with 1 Axes>"
      ]
     },
     "metadata": {},
     "output_type": "display_data"
    }
   ],
   "source": [
    "top_tracks = df['track_name'].value_counts().head(10)\n",
    "\n",
    "plt.figure(figsize=(8,5))\n",
    "sns.barplot(x=top_tracks.values,y=top_tracks.index, palette='tab10')\n",
    "\n",
    "plt.title('Top 10 tracks for this user')\n",
    "plt.xlabel('Number of plays')\n",
    "plt.ylabel('Track')\n",
    "\n",
    "plt.show()"
   ]
  },
  {
   "cell_type": "markdown",
   "metadata": {},
   "source": [
    "### Top albums"
   ]
  },
  {
   "cell_type": "code",
   "execution_count": 12,
   "metadata": {},
   "outputs": [
    {
     "name": "stderr",
     "output_type": "stream",
     "text": [
      "C:\\Users\\shunp\\AppData\\Local\\Temp\\ipykernel_13928\\2664383417.py:4: FutureWarning: \n",
      "\n",
      "Passing `palette` without assigning `hue` is deprecated and will be removed in v0.14.0. Assign the `y` variable to `hue` and set `legend=False` for the same effect.\n",
      "\n",
      "  sns.barplot(x=top_albums.values,y=top_albums.index, palette='colorblind')\n"
     ]
    },
    {
     "data": {
      "image/png": "[encoded data removed]",
      "text/plain": [
       "<Figure size 800x500 with 1 Axes>"
      ]
     },
     "metadata": {},
     "output_type": "display_data"
    }
   ],
   "source": [
    "top_albums = df['album_name'].value_counts().head(10)\n",
    "\n",
    "plt.figure(figsize=(8,5))\n",
    "sns.barplot(x=top_albums.values,y=top_albums.index, palette='colorblind')\n",
    "\n",
    "plt.title('Top 10 albums for this user')\n",
    "plt.xlabel('Number of plays')\n",
    "plt.ylabel('Album name')\n",
    "\n",
    "plt.show()"
   ]
  },
  {
   "cell_type": "markdown",
   "metadata": {},
   "source": [
    "### Top artist"
   ]
  },
  {
   "cell_type": "code",
   "execution_count": 13,
   "metadata": {},
   "outputs": [
    {
     "name": "stderr",
     "output_type": "stream",
     "text": [
      "C:\\Users\\shunp\\AppData\\Local\\Temp\\ipykernel_13928\\3710857697.py:4: FutureWarning: \n",
      "\n",
      "Passing `palette` without assigning `hue` is deprecated and will be removed in v0.14.0. Assign the `y` variable to `hue` and set `legend=False` for the same effect.\n",
      "\n",
      "  sns.barplot(x=top_artists.values,y=top_artists.index,palette='husl')\n"
     ]
    },
    {
     "data": {
      "image/png": "[encoded data removed]",
      "text/plain": [
       "<Figure size 800x500 with 1 Axes>"
      ]
     },
     "metadata": {},
     "output_type": "display_data"
    }
   ],
   "source": [
    "top_artists = df['artist_name'].value_counts().head(10)\n",
    "\n",
    "plt.figure(figsize=(8,5))\n",
    "sns.barplot(x=top_artists.values,y=top_artists.index,palette='husl')\n",
    "\n",
    "plt.title('Top 10 artists for a user')\n",
    "plt.xlabel('Number of plays')\n",
    "plt.ylabel('Artist name')\n",
    "\n",
    "plt.show()"
   ]
  },
  {
   "cell_type": "markdown",
   "metadata": {},
   "source": [
    "### Hour pattern"
   ]
  },
  {
   "cell_type": "code",
   "execution_count": 14,
   "metadata": {},
   "outputs": [
    {
     "name": "stderr",
     "output_type": "stream",
     "text": [
      "C:\\Users\\shunp\\AppData\\Local\\Temp\\ipykernel_13928\\1458948462.py:4: FutureWarning: \n",
      "\n",
      "Passing `palette` without assigning `hue` is deprecated and will be removed in v0.14.0. Assign the `x` variable to `hue` and set `legend=False` for the same effect.\n",
      "\n",
      "  sns.barplot(x=hours_count.index,y=hours_count.values,palette='hls')\n"
     ]
    },
    {
     "data": {
      "image/png": "[encoded data removed]",
      "text/plain": [
       "<Figure size 800x500 with 1 Axes>"
      ]
     },
     "metadata": {},
     "output_type": "display_data"
    }
   ],
   "source": [
    "hours_count = df.groupby('hour').size()\n",
    "\n",
    "plt.figure(figsize=(8,5))\n",
    "sns.barplot(x=hours_count.index,y=hours_count.values,palette='hls')\n",
    "\n",
    "plt.title('Hour pattern')\n",
    "plt.xlabel('Hour')\n",
    "plt.ylabel('Number of plays')\n",
    "\n",
    "plt.show()"
   ]
  },
  {
   "cell_type": "markdown",
   "metadata": {},
   "source": [
    "### Week pattern"
   ]
  },
  {
   "cell_type": "code",
   "execution_count": 15,
   "metadata": {},
   "outputs": [
    {
     "name": "stderr",
     "output_type": "stream",
     "text": [
      "C:\\Users\\shunp\\AppData\\Local\\Temp\\ipykernel_13928\\1663739314.py:6: FutureWarning: \n",
      "\n",
      "Passing `palette` without assigning `hue` is deprecated and will be removed in v0.14.0. Assign the `x` variable to `hue` and set `legend=False` for the same effect.\n",
      "\n",
      "  sns.barplot(x=week_count.index,y=week_count.values,palette='pastel')\n"
     ]
    },
    {
     "data": {
      "image/png": "[encoded data removed]",
      "text/plain": [
       "<Figure size 800x500 with 1 Axes>"
      ]
     },
     "metadata": {},
     "output_type": "display_data"
    }
   ],
   "source": [
    "week_count = df.groupby('day_of_week ').size().reindex([\n",
    "    'Monday', 'Tuesday', 'Wednesday', 'Thursday', 'Friday', 'Saturday', 'Sunday'\n",
    "])\n",
    "\n",
    "plt.figure(figsize=(8,5))\n",
    "sns.barplot(x=week_count.index,y=week_count.values,palette='pastel')\n",
    "\n",
    "plt.title('Week pattern')\n",
    "plt.xlabel('Day of the week')\n",
    "plt.ylabel('Number of plays')\n",
    "\n",
    "plt.show()"
   ]
  },
  {
   "cell_type": "markdown",
   "metadata": {},
   "source": [
    "### Percentage of skipping"
   ]
  },
  {
   "cell_type": "code",
   "execution_count": 16,
   "metadata": {},
   "outputs": [
    {
     "data": {
      "application/vnd.microsoft.datawrangler.viewer.v0+json": {
       "columns": [
        {
         "name": "index",
         "rawType": "int64",
         "type": "integer"
        },
        {
         "name": "spotify_track_uri",
         "rawType": "object",
         "type": "string"
        },
        {
         "name": "ts",
         "rawType": "datetime64[ns]",
         "type": "datetime"
        },
        {
         "name": "platform",
         "rawType": "object",
         "type": "string"
        },
        {
         "name": "ms_played",
         "rawType": "int64",
         "type": "integer"
        },
        {
         "name": "track_name",
         "rawType": "object",
         "type": "string"
        },
        {
         "name": "artist_name",
         "rawType": "object",
         "type": "string"
        },
        {
         "name": "album_name",
         "rawType": "object",
         "type": "string"
        },
        {
         "name": "reason_start",
         "rawType": "object",
         "type": "string"
        },
        {
         "name": "reason_end",
         "rawType": "object",
         "type": "string"
        },
        {
         "name": "shuffle",
         "rawType": "bool",
         "type": "boolean"
        },
        {
         "name": "skipped",
         "rawType": "bool",
         "type": "boolean"
        },
        {
         "name": "hour",
         "rawType": "int32",
         "type": "integer"
        },
        {
         "name": "date",
         "rawType": "object",
         "type": "unknown"
        },
        {
         "name": "month",
         "rawType": "period[M]",
         "type": "unknown"
        },
        {
         "name": "day_of_week ",
         "rawType": "object",
         "type": "string"
        }
       ],
       "conversionMethod": "pd.DataFrame",
       "ref": "a5641c86-f59a-4b2d-846a-2ed3798491fe",
       "rows": [
        [
         "0",
         "2J3n32GeLmMjwuAzyhcSNe",
         "2013-07-08 02:44:34",
         "web player",
         "3185",
         "Say It, Just Say It",
         "The Mowgli's",
         "Waiting For The Dawn",
         "autoplay",
         "clickrow",
         "False",
         "False",
         "2",
         "2013-07-08",
         "2013-07",
         "Monday"
        ],
        [
         "1",
         "1oHxIPqJyvAYHy0PVrDU98",
         "2013-07-08 02:45:37",
         "web player",
         "61865",
         "Drinking from the Bottle (feat. Tinie Tempah)",
         "Calvin Harris",
         "18 Months",
         "clickrow",
         "clickrow",
         "False",
         "False",
         "2",
         "2013-07-08",
         "2013-07",
         "Monday"
        ],
        [
         "2",
         "487OPlneJNni3NWC8SYqhW",
         "2013-07-08 02:50:24",
         "web player",
         "285386",
         "Born To Die",
         "Lana Del Rey",
         "Born To Die - The Paradise Edition",
         "clickrow",
         "unknown",
         "False",
         "False",
         "2",
         "2013-07-08",
         "2013-07",
         "Monday"
        ],
        [
         "3",
         "5IyblF777jLZj1vGHG2UD3",
         "2013-07-08 02:52:40",
         "web player",
         "134022",
         "Off To The Races",
         "Lana Del Rey",
         "Born To Die - The Paradise Edition",
         "trackdone",
         "clickrow",
         "False",
         "False",
         "2",
         "2013-07-08",
         "2013-07",
         "Monday"
        ],
        [
         "4",
         "0GgAAB0ZMllFhbNc3mAodO",
         "2013-07-08 03:17:52",
         "web player",
         "0",
         "Half Mast",
         "Empire Of The Sun",
         "Walking On A Dream",
         "clickrow",
         "nextbtn",
         "False",
         "False",
         "3",
         "2013-07-08",
         "2013-07",
         "Monday"
        ]
       ],
       "shape": {
        "columns": 15,
        "rows": 5
       }
      },
      "text/html": [
       "<div>\n",
       "<style scoped>\n",
       "    .dataframe tbody tr th:only-of-type {\n",
       "        vertical-align: middle;\n",
       "    }\n",
       "\n",
       "    .dataframe tbody tr th {\n",
       "        vertical-align: top;\n",
       "    }\n",
       "\n",
       "    .dataframe thead th {\n",
       "        text-align: right;\n",
       "    }\n",
       "</style>\n",
       "<table border=\"1\" class=\"dataframe\">\n",
       "  <thead>\n",
       "    <tr style=\"text-align: right;\">\n",
       "      <th></th>\n",
       "      <th>spotify_track_uri</th>\n",
       "      <th>ts</th>\n",
       "      <th>platform</th>\n",
       "      <th>ms_played</th>\n",
       "      <th>track_name</th>\n",
       "      <th>artist_name</th>\n",
       "      <th>album_name</th>\n",
       "      <th>reason_start</th>\n",
       "      <th>reason_end</th>\n",
       "      <th>shuffle</th>\n",
       "      <th>skipped</th>\n",
       "      <th>hour</th>\n",
       "      <th>date</th>\n",
       "      <th>month</th>\n",
       "      <th>day_of_week</th>\n",
       "    </tr>\n",
       "  </thead>\n",
       "  <tbody>\n",
       "    <tr>\n",
       "      <th>0</th>\n",
       "      <td>2J3n32GeLmMjwuAzyhcSNe</td>\n",
       "      <td>2013-07-08 02:44:34</td>\n",
       "      <td>web player</td>\n",
       "      <td>3185</td>\n",
       "      <td>Say It, Just Say It</td>\n",
       "      <td>The Mowgli's</td>\n",
       "      <td>Waiting For The Dawn</td>\n",
       "      <td>autoplay</td>\n",
       "      <td>clickrow</td>\n",
       "      <td>False</td>\n",
       "      <td>False</td>\n",
       "      <td>2</td>\n",
       "      <td>2013-07-08</td>\n",
       "      <td>2013-07</td>\n",
       "      <td>Monday</td>\n",
       "    </tr>\n",
       "    <tr>\n",
       "      <th>1</th>\n",
       "      <td>1oHxIPqJyvAYHy0PVrDU98</td>\n",
       "      <td>2013-07-08 02:45:37</td>\n",
       "      <td>web player</td>\n",
       "      <td>61865</td>\n",
       "      <td>Drinking from the Bottle (feat. Tinie Tempah)</td>\n",
       "      <td>Calvin Harris</td>\n",
       "      <td>18 Months</td>\n",
       "      <td>clickrow</td>\n",
       "      <td>clickrow</td>\n",
       "      <td>False</td>\n",
       "      <td>False</td>\n",
       "      <td>2</td>\n",
       "      <td>2013-07-08</td>\n",
       "      <td>2013-07</td>\n",
       "      <td>Monday</td>\n",
       "    </tr>\n",
       "    <tr>\n",
       "      <th>2</th>\n",
       "      <td>487OPlneJNni3NWC8SYqhW</td>\n",
       "      <td>2013-07-08 02:50:24</td>\n",
       "      <td>web player</td>\n",
       "      <td>285386</td>\n",
       "      <td>Born To Die</td>\n",
       "      <td>Lana Del Rey</td>\n",
       "      <td>Born To Die - The Paradise Edition</td>\n",
       "      <td>clickrow</td>\n",
       "      <td>unknown</td>\n",
       "      <td>False</td>\n",
       "      <td>False</td>\n",
       "      <td>2</td>\n",
       "      <td>2013-07-08</td>\n",
       "      <td>2013-07</td>\n",
       "      <td>Monday</td>\n",
       "    </tr>\n",
       "    <tr>\n",
       "      <th>3</th>\n",
       "      <td>5IyblF777jLZj1vGHG2UD3</td>\n",
       "      <td>2013-07-08 02:52:40</td>\n",
       "      <td>web player</td>\n",
       "      <td>134022</td>\n",
       "      <td>Off To The Races</td>\n",
       "      <td>Lana Del Rey</td>\n",
       "      <td>Born To Die - The Paradise Edition</td>\n",
       "      <td>trackdone</td>\n",
       "      <td>clickrow</td>\n",
       "      <td>False</td>\n",
       "      <td>False</td>\n",
       "      <td>2</td>\n",
       "      <td>2013-07-08</td>\n",
       "      <td>2013-07</td>\n",
       "      <td>Monday</td>\n",
       "    </tr>\n",
       "    <tr>\n",
       "      <th>4</th>\n",
       "      <td>0GgAAB0ZMllFhbNc3mAodO</td>\n",
       "      <td>2013-07-08 03:17:52</td>\n",
       "      <td>web player</td>\n",
       "      <td>0</td>\n",
       "      <td>Half Mast</td>\n",
       "      <td>Empire Of The Sun</td>\n",
       "      <td>Walking On A Dream</td>\n",
       "      <td>clickrow</td>\n",
       "      <td>nextbtn</td>\n",
       "      <td>False</td>\n",
       "      <td>False</td>\n",
       "      <td>3</td>\n",
       "      <td>2013-07-08</td>\n",
       "      <td>2013-07</td>\n",
       "      <td>Monday</td>\n",
       "    </tr>\n",
       "  </tbody>\n",
       "</table>\n",
       "</div>"
      ],
      "text/plain": [
       "        spotify_track_uri                  ts    platform  ms_played  \\\n",
       "0  2J3n32GeLmMjwuAzyhcSNe 2013-07-08 02:44:34  web player       3185   \n",
       "1  1oHxIPqJyvAYHy0PVrDU98 2013-07-08 02:45:37  web player      61865   \n",
       "2  487OPlneJNni3NWC8SYqhW 2013-07-08 02:50:24  web player     285386   \n",
       "3  5IyblF777jLZj1vGHG2UD3 2013-07-08 02:52:40  web player     134022   \n",
       "4  0GgAAB0ZMllFhbNc3mAodO 2013-07-08 03:17:52  web player          0   \n",
       "\n",
       "                                      track_name        artist_name  \\\n",
       "0                            Say It, Just Say It       The Mowgli's   \n",
       "1  Drinking from the Bottle (feat. Tinie Tempah)      Calvin Harris   \n",
       "2                                    Born To Die       Lana Del Rey   \n",
       "3                               Off To The Races       Lana Del Rey   \n",
       "4                                      Half Mast  Empire Of The Sun   \n",
       "\n",
       "                           album_name reason_start reason_end  shuffle  \\\n",
       "0                Waiting For The Dawn     autoplay   clickrow    False   \n",
       "1                           18 Months     clickrow   clickrow    False   \n",
       "2  Born To Die - The Paradise Edition     clickrow    unknown    False   \n",
       "3  Born To Die - The Paradise Edition    trackdone   clickrow    False   \n",
       "4                  Walking On A Dream     clickrow    nextbtn    False   \n",
       "\n",
       "   skipped  hour        date    month day_of_week   \n",
       "0    False     2  2013-07-08  2013-07       Monday  \n",
       "1    False     2  2013-07-08  2013-07       Monday  \n",
       "2    False     2  2013-07-08  2013-07       Monday  \n",
       "3    False     2  2013-07-08  2013-07       Monday  \n",
       "4    False     3  2013-07-08  2013-07       Monday  "
      ]
     },
     "execution_count": 16,
     "metadata": {},
     "output_type": "execute_result"
    }
   ],
   "source": [
    "df.head()"
   ]
  },
  {
   "cell_type": "code",
   "execution_count": 17,
   "metadata": {},
   "outputs": [
    {
     "data": {
      "image/png": "[encoded data removed]",
      "text/plain": [
       "<Figure size 800x500 with 1 Axes>"
      ]
     },
     "metadata": {},
     "output_type": "display_data"
    }
   ],
   "source": [
    "skip_count = df.groupby('skipped').size()\n",
    "labels = ['No skip', 'Skip']\n",
    "\n",
    "plt.figure(figsize=(8,5))\n",
    "plt.pie(skip_count.values,labels=labels,autopct='%.2f%%')\n",
    "\n",
    "plt.title('Piechart of skipping')\n",
    "\n",
    "plt.show()"
   ]
  },
  {
   "cell_type": "markdown",
   "metadata": {},
   "source": [
    "### Percentage of shuffle"
   ]
  },
  {
   "cell_type": "code",
   "execution_count": 18,
   "metadata": {},
   "outputs": [
    {
     "data": {
      "image/png": "[encoded data removed]",
      "text/plain": [
       "<Figure size 800x500 with 1 Axes>"
      ]
     },
     "metadata": {},
     "output_type": "display_data"
    }
   ],
   "source": [
    "shuffle_count = df.groupby('shuffle').size()\n",
    "labels = ['No shuffle', 'Shuffle']\n",
    "\n",
    "plt.figure(figsize=(8,5))\n",
    "plt.pie(shuffle_count.values,labels=labels,autopct='%.2f%%',startangle=280)\n",
    "\n",
    "plt.title('Piechart of shuffle')\n",
    "\n",
    "plt.show()"
   ]
  },
  {
   "cell_type": "markdown",
   "metadata": {},
   "source": [
    "### Reasons of start and end"
   ]
  },
  {
   "cell_type": "code",
   "execution_count": 19,
   "metadata": {},
   "outputs": [
    {
     "data": {
      "text/plain": [
       "reason_end\n",
       "trackdone                       77110\n",
       "fwdbtn                          53462\n",
       "endplay                         10116\n",
       "logout                           4367\n",
       "backbtn                          2182\n",
       "unexpected-exit-while-paused     1725\n",
       "unknown                           268\n",
       "remote                            224\n",
       "unexpected-exit                   118\n",
       "clickrow                           34\n",
       "nextbtn                            21\n",
       "appload                             7\n",
       "popup                               6\n",
       "reload                              4\n",
       "trackerror                          4\n",
       "Name: count, dtype: int64"
      ]
     },
     "execution_count": 19,
     "metadata": {},
     "output_type": "execute_result"
    }
   ],
   "source": [
    "df['reason_end'].value_counts()"
   ]
  },
  {
   "cell_type": "code",
   "execution_count": 20,
   "metadata": {},
   "outputs": [
    {
     "ename": "NameError",
     "evalue": "name 'start_count' is not defined",
     "output_type": "error",
     "traceback": [
      "\u001b[1;31m---------------------------------------------------------------------------\u001b[0m",
      "\u001b[1;31mNameError\u001b[0m                                 Traceback (most recent call last)",
      "Cell \u001b[1;32mIn[20], line 1\u001b[0m\n\u001b[1;32m----> 1\u001b[0m \u001b[43mstart_count\u001b[49m\u001b[38;5;241m.\u001b[39mindex\n",
      "\u001b[1;31mNameError\u001b[0m: name 'start_count' is not defined"
     ]
    }
   ],
   "source": [
    "start_count.index"
   ]
  },
  {
   "cell_type": "code",
   "execution_count": null,
   "metadata": {},
   "outputs": [
    {
     "data": {
      "image/png": "[encoded data removed]",
      "text/plain": [
       "<Figure size 800x500 with 1 Axes>"
      ]
     },
     "metadata": {},
     "output_type": "display_data"
    },
    {
     "data": {
      "image/png": "[encoded data removed]",
      "text/plain": [
       "<Figure size 800x500 with 1 Axes>"
      ]
     },
     "metadata": {},
     "output_type": "display_data"
    }
   ],
   "source": [
    "start_count = df.groupby('reason_start').size().sort_values(ascending=False)\n",
    "end_count = df.groupby('reason_end').size().sort_values(ascending=False)\n",
    "\n",
    "plt.figure(figsize=(8,5))\n",
    "sns.barplot(x=start_count.values,y=start_count.index)\n",
    "\n",
    "plt.title('Starting the music')\n",
    "plt.ylabel('Reasons')\n",
    "plt.xlabel('Count')\n",
    "\n",
    "plt.show()\n",
    "\n",
    "plt.figure(figsize=(8,5))\n",
    "sns.barplot(x=end_count.values,y=end_count.index)\n",
    "\n",
    "plt.title('Ending the music')\n",
    "plt.ylabel('Reasons')\n",
    "plt.xlabel('Count')\n",
    "\n",
    "plt.show()"
   ]
  },
  {
   "cell_type": "markdown",
   "metadata": {},
   "source": [
    "### Platform usage distribution"
   ]
  },
  {
   "cell_type": "code",
   "execution_count": null,
   "metadata": {},
   "outputs": [
    {
     "data": {
      "image/png": "[encoded data removed]",
      "text/plain": [
       "<Figure size 800x500 with 1 Axes>"
      ]
     },
     "metadata": {},
     "output_type": "display_data"
    }
   ],
   "source": [
    "platform = df.groupby('platform').size().sort_values(ascending=False)\n",
    "\n",
    "labels = ['android','cast to device', 'IOS', 'windows', 'mac', 'web player']\n",
    "explode_labels = [0,0.4,0.4,0.4,0.4,0.4]\n",
    "\n",
    "plt.figure(figsize=(8,5))\n",
    "plt.pie(platform.values,labels=labels,autopct='%.2f%%',explode=explode_labels)\n",
    "\n",
    "plt.title('Platform usage')\n",
    "\n",
    "plt.show()"
   ]
  },
  {
   "cell_type": "code",
   "execution_count": null,
   "metadata": {},
   "outputs": [],
   "source": []
  }
 ],
 "metadata": {
  "kernelspec": {
   "display_name": "Python 3",
   "language": "python",
   "name": "python3"
  },
  "language_info": {
   "codemirror_mode": {
    "name": "ipython",
    "version": 3
   },
   "file_extension": ".py",
   "mimetype": "text/x-python",
   "name": "python",
   "nbconvert_exporter": "python",
   "pygments_lexer": "ipython3",
   "version": "3.9.21"
  }
 },
 "nbformat": 4,
 "nbformat_minor": 2
}
